{
 "cells": [
  {
   "cell_type": "markdown",
   "metadata": {
    "deletable": true,
    "editable": true
   },
   "source": [
    "# Fully-Connected Neural Nets\n",
    "In the previous homework you implemented a fully-connected two-layer neural network on CIFAR-10. The implementation was simple but not very modular since the loss and gradient were computed in a single monolithic function. This is manageable for a simple two-layer network, but would become impractical as we move to bigger models. Ideally we want to build networks using a more modular design so that we can implement different layer types in isolation and then snap them together into models with different architectures.\n",
    "\n",
    "In this exercise we will implement fully-connected networks using a more modular approach. For each layer we will implement a `forward` and a `backward` function. The `forward` function will receive inputs, weights, and other parameters and will return both an output and a `cache` object storing data needed for the backward pass, like this:\n",
    "\n",
    "```python\n",
    "def layer_forward(x, w):\n",
    "  \"\"\" Receive inputs x and weights w \"\"\"\n",
    "  # Do some computations ...\n",
    "  z = # ... some intermediate value\n",
    "  # Do some more computations ...\n",
    "  out = # the output\n",
    "   \n",
    "  cache = (x, w, z, out) # Values we need to compute gradients\n",
    "   \n",
    "  return out, cache\n",
    "```\n",
    "\n",
    "The backward pass will receive upstream derivatives and the `cache` object, and will return gradients with respect to the inputs and weights, like this:\n",
    "\n",
    "```python\n",
    "def layer_backward(dout, cache):\n",
    "  \"\"\"\n",
    "  Receive derivative of loss with respect to outputs and cache,\n",
    "  and compute derivative with respect to inputs.\n",
    "  \"\"\"\n",
    "  # Unpack cache values\n",
    "  x, w, z, out = cache\n",
    "  \n",
    "  # Use values in cache to compute derivatives\n",
    "  dx = # Derivative of loss with respect to x\n",
    "  dw = # Derivative of loss with respect to w\n",
    "  \n",
    "  return dx, dw\n",
    "```\n",
    "\n",
    "After implementing a bunch of layers this way, we will be able to easily combine them to build classifiers with different architectures.\n",
    "\n",
    "In addition to implementing fully-connected networks of arbitrary depth, we will also explore different update rules for optimization, and introduce Dropout as a regularizer and Batch Normalization as a tool to more efficiently optimize deep networks.\n",
    "  "
   ]
  },
  {
   "cell_type": "code",
   "execution_count": 2,
   "metadata": {
    "collapsed": false,
    "deletable": true,
    "editable": true
   },
   "outputs": [],
   "source": [
    "# As usual, a bit of setup\n",
    "from __future__ import print_function\n",
    "import time\n",
    "import numpy as np\n",
    "import matplotlib.pyplot as plt\n",
    "from cs231n.classifiers.fc_net import *\n",
    "from cs231n.data_utils import get_CIFAR10_data\n",
    "from cs231n.gradient_check import eval_numerical_gradient, eval_numerical_gradient_array\n",
    "from cs231n.solver import Solver\n",
    "\n",
    "%matplotlib inline\n",
    "plt.rcParams['figure.figsize'] = (10.0, 8.0) # set default size of plots\n",
    "plt.rcParams['image.interpolation'] = 'nearest'\n",
    "plt.rcParams['image.cmap'] = 'gray'\n",
    "\n",
    "# for auto-reloading external modules\n",
    "# see http://stackoverflow.com/questions/1907993/autoreload-of-modules-in-ipython\n",
    "%load_ext autoreload\n",
    "%autoreload 2\n",
    "\n",
    "def rel_error(x, y):\n",
    "  \"\"\" returns relative error \"\"\"\n",
    "  return np.max(np.abs(x - y) / (np.maximum(1e-8, np.abs(x) + np.abs(y))))"
   ]
  },
  {
   "cell_type": "code",
   "execution_count": 3,
   "metadata": {
    "collapsed": false,
    "deletable": true,
    "editable": true
   },
   "outputs": [
    {
     "name": "stdout",
     "output_type": "stream",
     "text": [
      "('X_train: ', (49000, 3, 32, 32))\n",
      "('y_train: ', (49000,))\n",
      "('X_val: ', (1000, 3, 32, 32))\n",
      "('y_val: ', (1000,))\n",
      "('X_test: ', (1000, 3, 32, 32))\n",
      "('y_test: ', (1000,))\n"
     ]
    }
   ],
   "source": [
    "# Load the (preprocessed) CIFAR10 data.\n",
    "\n",
    "data = get_CIFAR10_data()\n",
    "for k, v in list(data.items()):\n",
    "  print(('%s: ' % k, v.shape))"
   ]
  },
  {
   "cell_type": "markdown",
   "metadata": {
    "deletable": true,
    "editable": true
   },
   "source": [
    "# Affine layer: foward\n",
    "Open the file `cs231n/layers.py` and implement the `affine_forward` function.\n",
    "\n",
    "Once you are done you can test your implementaion by running the following:"
   ]
  },
  {
   "cell_type": "code",
   "execution_count": 4,
   "metadata": {
    "collapsed": false,
    "deletable": true,
    "editable": true
   },
   "outputs": [
    {
     "name": "stdout",
     "output_type": "stream",
     "text": [
      "Testing affine_forward function:\n",
      "difference:  9.76984772881e-10\n"
     ]
    }
   ],
   "source": [
    "# Test the affine_forward function\n",
    "\n",
    "num_inputs = 2\n",
    "input_shape = (4, 5, 6)\n",
    "output_dim = 3\n",
    "\n",
    "input_size = num_inputs * np.prod(input_shape)\n",
    "weight_size = output_dim * np.prod(input_shape)\n",
    "\n",
    "x = np.linspace(-0.1, 0.5, num=input_size).reshape(num_inputs, *input_shape)\n",
    "w = np.linspace(-0.2, 0.3, num=weight_size).reshape(np.prod(input_shape), output_dim)\n",
    "b = np.linspace(-0.3, 0.1, num=output_dim)\n",
    "\n",
    "out, _ = affine_forward(x, w, b)\n",
    "correct_out = np.array([[ 1.49834967,  1.70660132,  1.91485297],\n",
    "                        [ 3.25553199,  3.5141327,   3.77273342]])\n",
    "\n",
    "# Compare your output with ours. The error should be around 1e-9.\n",
    "print('Testing affine_forward function:')\n",
    "print('difference: ', rel_error(out, correct_out))"
   ]
  },
  {
   "cell_type": "markdown",
   "metadata": {
    "deletable": true,
    "editable": true
   },
   "source": [
    "# Affine layer: backward\n",
    "Now implement the `affine_backward` function and test your implementation using numeric gradient checking."
   ]
  },
  {
   "cell_type": "code",
   "execution_count": 5,
   "metadata": {
    "collapsed": false,
    "deletable": true,
    "editable": true
   },
   "outputs": [
    {
     "name": "stdout",
     "output_type": "stream",
     "text": [
      "Testing affine_backward function:\n",
      "dx error:  5.39910036865e-11\n",
      "dw error:  9.9042118654e-11\n",
      "db error:  2.41228675681e-11\n"
     ]
    }
   ],
   "source": [
    "# Test the affine_backward function\n",
    "np.random.seed(231)\n",
    "x = np.random.randn(10, 2, 3)\n",
    "w = np.random.randn(6, 5)\n",
    "b = np.random.randn(5)\n",
    "dout = np.random.randn(10, 5)\n",
    "\n",
    "dx_num = eval_numerical_gradient_array(lambda x: affine_forward(x, w, b)[0], x, dout)\n",
    "dw_num = eval_numerical_gradient_array(lambda w: affine_forward(x, w, b)[0], w, dout)\n",
    "db_num = eval_numerical_gradient_array(lambda b: affine_forward(x, w, b)[0], b, dout)\n",
    "\n",
    "_, cache = affine_forward(x, w, b)\n",
    "dx, dw, db = affine_backward(dout, cache)\n",
    "\n",
    "# The error should be around 1e-10\n",
    "print('Testing affine_backward function:')\n",
    "print('dx error: ', rel_error(dx_num, dx))\n",
    "print('dw error: ', rel_error(dw_num, dw))\n",
    "print('db error: ', rel_error(db_num, db))"
   ]
  },
  {
   "cell_type": "markdown",
   "metadata": {
    "deletable": true,
    "editable": true
   },
   "source": [
    "# ReLU layer: forward\n",
    "Implement the forward pass for the ReLU activation function in the `relu_forward` function and test your implementation using the following:"
   ]
  },
  {
   "cell_type": "code",
   "execution_count": 6,
   "metadata": {
    "collapsed": false,
    "deletable": true,
    "editable": true
   },
   "outputs": [
    {
     "name": "stdout",
     "output_type": "stream",
     "text": [
      "Testing relu_forward function:\n",
      "difference:  4.99999979802e-08\n"
     ]
    }
   ],
   "source": [
    "# Test the relu_forward function\n",
    "\n",
    "x = np.linspace(-0.5, 0.5, num=12).reshape(3, 4)\n",
    "\n",
    "out, _ = relu_forward(x)\n",
    "correct_out = np.array([[ 0.,          0.,          0.,          0.,        ],\n",
    "                        [ 0.,          0.,          0.04545455,  0.13636364,],\n",
    "                        [ 0.22727273,  0.31818182,  0.40909091,  0.5,       ]])\n",
    "\n",
    "# Compare your output with ours. The error should be around 5e-8\n",
    "print('Testing relu_forward function:')\n",
    "print('difference: ', rel_error(out, correct_out))"
   ]
  },
  {
   "cell_type": "markdown",
   "metadata": {
    "deletable": true,
    "editable": true
   },
   "source": [
    "# ReLU layer: backward\n",
    "Now implement the backward pass for the ReLU activation function in the `relu_backward` function and test your implementation using numeric gradient checking:"
   ]
  },
  {
   "cell_type": "code",
   "execution_count": 7,
   "metadata": {
    "collapsed": false,
    "deletable": true,
    "editable": true
   },
   "outputs": [
    {
     "name": "stdout",
     "output_type": "stream",
     "text": [
      "Testing relu_backward function:\n",
      "dx error:  3.27563491363e-12\n"
     ]
    }
   ],
   "source": [
    "np.random.seed(231)\n",
    "x = np.random.randn(10, 10)\n",
    "dout = np.random.randn(*x.shape)\n",
    "\n",
    "dx_num = eval_numerical_gradient_array(lambda x: relu_forward(x)[0], x, dout)\n",
    "\n",
    "_, cache = relu_forward(x)\n",
    "dx = relu_backward(dout, cache)\n",
    "\n",
    "# The error should be around 3e-12\n",
    "print('Testing relu_backward function:')\n",
    "print('dx error: ', rel_error(dx_num, dx))"
   ]
  },
  {
   "cell_type": "markdown",
   "metadata": {
    "deletable": true,
    "editable": true
   },
   "source": [
    "# \"Sandwich\" layers\n",
    "There are some common patterns of layers that are frequently used in neural nets. For example, affine layers are frequently followed by a ReLU nonlinearity. To make these common patterns easy, we define several convenience layers in the file `cs231n/layer_utils.py`.\n",
    "\n",
    "For now take a look at the `affine_relu_forward` and `affine_relu_backward` functions, and run the following to numerically gradient check the backward pass:"
   ]
  },
  {
   "cell_type": "code",
   "execution_count": 8,
   "metadata": {
    "collapsed": false,
    "deletable": true,
    "editable": true
   },
   "outputs": [
    {
     "name": "stdout",
     "output_type": "stream",
     "text": [
      "Testing affine_relu_forward:\n",
      "dx error:  6.7505621216e-11\n",
      "dw error:  8.16201557044e-11\n",
      "db error:  7.82672402146e-12\n"
     ]
    }
   ],
   "source": [
    "from cs231n.layer_utils import affine_relu_forward, affine_relu_backward\n",
    "np.random.seed(231)\n",
    "x = np.random.randn(2, 3, 4)\n",
    "w = np.random.randn(12, 10)\n",
    "b = np.random.randn(10)\n",
    "dout = np.random.randn(2, 10)\n",
    "\n",
    "out, cache = affine_relu_forward(x, w, b)\n",
    "dx, dw, db = affine_relu_backward(dout, cache)\n",
    "\n",
    "dx_num = eval_numerical_gradient_array(lambda x: affine_relu_forward(x, w, b)[0], x, dout)\n",
    "dw_num = eval_numerical_gradient_array(lambda w: affine_relu_forward(x, w, b)[0], w, dout)\n",
    "db_num = eval_numerical_gradient_array(lambda b: affine_relu_forward(x, w, b)[0], b, dout)\n",
    "\n",
    "print('Testing affine_relu_forward:')\n",
    "print('dx error: ', rel_error(dx_num, dx))\n",
    "print('dw error: ', rel_error(dw_num, dw))\n",
    "print('db error: ', rel_error(db_num, db))"
   ]
  },
  {
   "cell_type": "markdown",
   "metadata": {
    "deletable": true,
    "editable": true
   },
   "source": [
    "# Loss layers: Softmax and SVM\n",
    "You implemented these loss functions in the last assignment, so we'll give them to you for free here. You should still make sure you understand how they work by looking at the implementations in `cs231n/layers.py`.\n",
    "\n",
    "You can make sure that the implementations are correct by running the following:"
   ]
  },
  {
   "cell_type": "code",
   "execution_count": 9,
   "metadata": {
    "collapsed": false,
    "deletable": true,
    "editable": true
   },
   "outputs": [
    {
     "name": "stdout",
     "output_type": "stream",
     "text": [
      "Testing svm_loss:\n",
      "loss:  8.9996027491\n",
      "dx error:  1.40215660067e-09\n",
      "\n",
      "Testing softmax_loss:\n",
      "loss:  2.3025458445\n",
      "dx error:  9.38467316199e-09\n"
     ]
    }
   ],
   "source": [
    "np.random.seed(231)\n",
    "num_classes, num_inputs = 10, 50\n",
    "x = 0.001 * np.random.randn(num_inputs, num_classes)\n",
    "y = np.random.randint(num_classes, size=num_inputs)\n",
    "\n",
    "dx_num = eval_numerical_gradient(lambda x: svm_loss(x, y)[0], x, verbose=False)\n",
    "loss, dx = svm_loss(x, y)\n",
    "\n",
    "# Test svm_loss function. Loss should be around 9 and dx error should be 1e-9\n",
    "print('Testing svm_loss:')\n",
    "print('loss: ', loss)\n",
    "print('dx error: ', rel_error(dx_num, dx))\n",
    "\n",
    "dx_num = eval_numerical_gradient(lambda x: softmax_loss(x, y)[0], x, verbose=False)\n",
    "loss, dx = softmax_loss(x, y)\n",
    "\n",
    "# Test softmax_loss function. Loss should be 2.3 and dx error should be 1e-8\n",
    "print('\\nTesting softmax_loss:')\n",
    "print('loss: ', loss)\n",
    "print('dx error: ', rel_error(dx_num, dx))"
   ]
  },
  {
   "cell_type": "markdown",
   "metadata": {
    "deletable": true,
    "editable": true
   },
   "source": [
    "# Two-layer network\n",
    "In the previous assignment you implemented a two-layer neural network in a single monolithic class. Now that you have implemented modular versions of the necessary layers, you will reimplement the two layer network using these modular implementations.\n",
    "\n",
    "Open the file `cs231n/classifiers/fc_net.py` and complete the implementation of the `TwoLayerNet` class. This class will serve as a model for the other networks you will implement in this assignment, so read through it to make sure you understand the API. You can run the cell below to test your implementation."
   ]
  },
  {
   "cell_type": "code",
   "execution_count": 10,
   "metadata": {
    "collapsed": false,
    "deletable": true,
    "editable": true
   },
   "outputs": [
    {
     "name": "stdout",
     "output_type": "stream",
     "text": [
      "Testing initialization ... \n",
      "Testing test-time forward pass ... \n",
      "Testing training loss (no regularization)\n",
      "Running numeric gradient check with reg =  0.0\n",
      "W1 relative error: 1.22e-08\n",
      "W2 relative error: 3.48e-10\n",
      "b1 relative error: 6.55e-09\n",
      "b2 relative error: 4.33e-10\n",
      "Running numeric gradient check with reg =  0.7\n",
      "W1 relative error: 8.18e-07\n",
      "W2 relative error: 2.85e-08\n",
      "b1 relative error: 1.09e-09\n",
      "b2 relative error: 7.76e-10\n"
     ]
    }
   ],
   "source": [
    "np.random.seed(231)\n",
    "N, D, H, C = 3, 5, 50, 7\n",
    "X = np.random.randn(N, D)\n",
    "y = np.random.randint(C, size=N)\n",
    "\n",
    "std = 1e-3\n",
    "model = TwoLayerNet(input_dim=D, hidden_dim=H, num_classes=C, weight_scale=std)\n",
    "\n",
    "print('Testing initialization ... ')\n",
    "W1_std = abs(model.params['W1'].std() - std)\n",
    "b1 = model.params['b1']\n",
    "W2_std = abs(model.params['W2'].std() - std)\n",
    "b2 = model.params['b2']\n",
    "assert W1_std < std / 10, 'First layer weights do not seem right'\n",
    "assert np.all(b1 == 0), 'First layer biases do not seem right'\n",
    "assert W2_std < std / 10, 'Second layer weights do not seem right'\n",
    "assert np.all(b2 == 0), 'Second layer biases do not seem right'\n",
    "\n",
    "print('Testing test-time forward pass ... ')\n",
    "model.params['W1'] = np.linspace(-0.7, 0.3, num=D*H).reshape(D, H)\n",
    "model.params['b1'] = np.linspace(-0.1, 0.9, num=H)\n",
    "model.params['W2'] = np.linspace(-0.3, 0.4, num=H*C).reshape(H, C)\n",
    "model.params['b2'] = np.linspace(-0.9, 0.1, num=C)\n",
    "X = np.linspace(-5.5, 4.5, num=N*D).reshape(D, N).T\n",
    "scores = model.loss(X)\n",
    "correct_scores = np.asarray(\n",
    "  [[11.53165108,  12.2917344,   13.05181771,  13.81190102,  14.57198434, 15.33206765,  16.09215096],\n",
    "   [12.05769098,  12.74614105,  13.43459113,  14.1230412,   14.81149128, 15.49994135,  16.18839143],\n",
    "   [12.58373087,  13.20054771,  13.81736455,  14.43418138,  15.05099822, 15.66781506,  16.2846319 ]])\n",
    "scores_diff = np.abs(scores - correct_scores).sum()\n",
    "assert scores_diff < 1e-6, 'Problem with test-time forward pass'\n",
    "\n",
    "print('Testing training loss (no regularization)')\n",
    "y = np.asarray([0, 5, 1])\n",
    "loss, grads = model.loss(X, y)\n",
    "correct_loss = 3.4702243556\n",
    "assert abs(loss - correct_loss) < 1e-10, 'Problem with training-time loss'\n",
    "\n",
    "model.reg = 1.0\n",
    "loss, grads = model.loss(X, y)\n",
    "correct_loss = 26.5948426952\n",
    "assert abs(loss - correct_loss) < 1e-10, 'Problem with regularization loss'\n",
    "\n",
    "for reg in [0.0, 0.7]:\n",
    "  print('Running numeric gradient check with reg = ', reg)\n",
    "  model.reg = reg\n",
    "  loss, grads = model.loss(X, y)\n",
    "\n",
    "  for name in sorted(grads):\n",
    "    f = lambda _: model.loss(X, y)[0]\n",
    "    grad_num = eval_numerical_gradient(f, model.params[name], verbose=False)\n",
    "    print('%s relative error: %.2e' % (name, rel_error(grad_num, grads[name])))"
   ]
  },
  {
   "cell_type": "markdown",
   "metadata": {
    "deletable": true,
    "editable": true
   },
   "source": [
    "# Solver\n",
    "In the previous assignment, the logic for training models was coupled to the models themselves. Following a more modular design, for this assignment we have split the logic for training models into a separate class.\n",
    "\n",
    "Open the file `cs231n/solver.py` and read through it to familiarize yourself with the API. After doing so, use a `Solver` instance to train a `TwoLayerNet` that achieves at least `50%` accuracy on the validation set."
   ]
  },
  {
   "cell_type": "code",
   "execution_count": 35,
   "metadata": {
    "collapsed": false,
    "deletable": true,
    "editable": true
   },
   "outputs": [
    {
     "name": "stdout",
     "output_type": "stream",
     "text": [
      "(Iteration 1 / 4900) loss: 2.305341\n",
      "(Epoch 0 / 10) train acc: 0.139000; val_acc: 0.120000\n",
      "(Iteration 11 / 4900) loss: 2.268001\n",
      "(Iteration 21 / 4900) loss: 2.166149\n",
      "(Iteration 31 / 4900) loss: 2.103336\n",
      "(Iteration 41 / 4900) loss: 1.931283\n",
      "(Iteration 51 / 4900) loss: 1.912945\n",
      "(Iteration 61 / 4900) loss: 1.993722\n",
      "(Iteration 71 / 4900) loss: 1.887064\n",
      "(Iteration 81 / 4900) loss: 1.897594\n",
      "(Iteration 91 / 4900) loss: 1.789656\n",
      "(Iteration 101 / 4900) loss: 1.851416\n",
      "(Iteration 111 / 4900) loss: 1.690107\n",
      "(Iteration 121 / 4900) loss: 1.962813\n",
      "(Iteration 131 / 4900) loss: 1.807559\n",
      "(Iteration 141 / 4900) loss: 1.770578\n",
      "(Iteration 151 / 4900) loss: 1.692377\n",
      "(Iteration 161 / 4900) loss: 1.649730\n",
      "(Iteration 171 / 4900) loss: 1.708945\n",
      "(Iteration 181 / 4900) loss: 1.672071\n",
      "(Iteration 191 / 4900) loss: 1.781765\n",
      "(Iteration 201 / 4900) loss: 1.763598\n",
      "(Iteration 211 / 4900) loss: 1.710053\n",
      "(Iteration 221 / 4900) loss: 1.786792\n",
      "(Iteration 231 / 4900) loss: 1.523338\n",
      "(Iteration 241 / 4900) loss: 1.620014\n",
      "(Iteration 251 / 4900) loss: 1.647108\n",
      "(Iteration 261 / 4900) loss: 1.557638\n",
      "(Iteration 271 / 4900) loss: 1.611786\n",
      "(Iteration 281 / 4900) loss: 1.556772\n",
      "(Iteration 291 / 4900) loss: 1.799611\n",
      "(Iteration 301 / 4900) loss: 1.789426\n",
      "(Iteration 311 / 4900) loss: 1.745681\n",
      "(Iteration 321 / 4900) loss: 1.543944\n",
      "(Iteration 331 / 4900) loss: 1.688724\n",
      "(Iteration 341 / 4900) loss: 1.808988\n",
      "(Iteration 351 / 4900) loss: 1.586021\n",
      "(Iteration 361 / 4900) loss: 1.415480\n",
      "(Iteration 371 / 4900) loss: 1.553081\n",
      "(Iteration 381 / 4900) loss: 1.519003\n",
      "(Iteration 391 / 4900) loss: 1.654491\n",
      "(Iteration 401 / 4900) loss: 1.557796\n",
      "(Iteration 411 / 4900) loss: 1.865527\n",
      "(Iteration 421 / 4900) loss: 1.463574\n",
      "(Iteration 431 / 4900) loss: 1.619763\n",
      "(Iteration 441 / 4900) loss: 1.486675\n",
      "(Iteration 451 / 4900) loss: 1.666543\n",
      "(Iteration 461 / 4900) loss: 1.658980\n",
      "(Iteration 471 / 4900) loss: 1.466220\n",
      "(Iteration 481 / 4900) loss: 1.548604\n",
      "(Epoch 1 / 10) train acc: 0.481000; val_acc: 0.436000\n",
      "(Iteration 491 / 4900) loss: 1.498315\n",
      "(Iteration 501 / 4900) loss: 1.567814\n",
      "(Iteration 511 / 4900) loss: 1.479298\n",
      "(Iteration 521 / 4900) loss: 1.473982\n",
      "(Iteration 531 / 4900) loss: 1.473544\n",
      "(Iteration 541 / 4900) loss: 1.462218\n",
      "(Iteration 551 / 4900) loss: 1.400599\n",
      "(Iteration 561 / 4900) loss: 1.394884\n",
      "(Iteration 571 / 4900) loss: 1.636600\n",
      "(Iteration 581 / 4900) loss: 1.480532\n",
      "(Iteration 591 / 4900) loss: 1.754272\n",
      "(Iteration 601 / 4900) loss: 1.459176\n",
      "(Iteration 611 / 4900) loss: 1.697494\n",
      "(Iteration 621 / 4900) loss: 1.465552\n",
      "(Iteration 631 / 4900) loss: 1.549102\n",
      "(Iteration 641 / 4900) loss: 1.509739\n",
      "(Iteration 651 / 4900) loss: 1.613518\n",
      "(Iteration 661 / 4900) loss: 1.607621\n",
      "(Iteration 671 / 4900) loss: 1.316785\n",
      "(Iteration 681 / 4900) loss: 1.360182\n",
      "(Iteration 691 / 4900) loss: 1.355662\n",
      "(Iteration 701 / 4900) loss: 1.721326\n",
      "(Iteration 711 / 4900) loss: 1.725937\n",
      "(Iteration 721 / 4900) loss: 1.378150\n",
      "(Iteration 731 / 4900) loss: 1.353775\n",
      "(Iteration 741 / 4900) loss: 1.714706\n",
      "(Iteration 751 / 4900) loss: 1.559991\n",
      "(Iteration 761 / 4900) loss: 1.531764\n",
      "(Iteration 771 / 4900) loss: 1.590214\n",
      "(Iteration 781 / 4900) loss: 1.371825\n",
      "(Iteration 791 / 4900) loss: 1.488006\n",
      "(Iteration 801 / 4900) loss: 1.371088\n",
      "(Iteration 811 / 4900) loss: 1.609293\n",
      "(Iteration 821 / 4900) loss: 1.695102\n",
      "(Iteration 831 / 4900) loss: 1.437190\n",
      "(Iteration 841 / 4900) loss: 1.702120\n",
      "(Iteration 851 / 4900) loss: 1.556227\n",
      "(Iteration 861 / 4900) loss: 1.434943\n",
      "(Iteration 871 / 4900) loss: 1.547758\n",
      "(Iteration 881 / 4900) loss: 1.560284\n",
      "(Iteration 891 / 4900) loss: 1.431768\n",
      "(Iteration 901 / 4900) loss: 1.607431\n",
      "(Iteration 911 / 4900) loss: 1.474858\n",
      "(Iteration 921 / 4900) loss: 1.642243\n",
      "(Iteration 931 / 4900) loss: 1.581637\n",
      "(Iteration 941 / 4900) loss: 1.212254\n",
      "(Iteration 951 / 4900) loss: 1.639944\n",
      "(Iteration 961 / 4900) loss: 1.483698\n",
      "(Iteration 971 / 4900) loss: 1.534167\n",
      "(Epoch 2 / 10) train acc: 0.510000; val_acc: 0.473000\n",
      "(Iteration 981 / 4900) loss: 1.636476\n",
      "(Iteration 991 / 4900) loss: 1.295596\n",
      "(Iteration 1001 / 4900) loss: 1.568664\n",
      "(Iteration 1011 / 4900) loss: 1.502940\n",
      "(Iteration 1021 / 4900) loss: 1.437896\n",
      "(Iteration 1031 / 4900) loss: 1.596263\n",
      "(Iteration 1041 / 4900) loss: 1.469351\n",
      "(Iteration 1051 / 4900) loss: 1.357648\n",
      "(Iteration 1061 / 4900) loss: 1.417597\n",
      "(Iteration 1071 / 4900) loss: 1.451336\n",
      "(Iteration 1081 / 4900) loss: 1.593874\n",
      "(Iteration 1091 / 4900) loss: 1.470202\n",
      "(Iteration 1101 / 4900) loss: 1.620791\n",
      "(Iteration 1111 / 4900) loss: 1.407864\n",
      "(Iteration 1121 / 4900) loss: 1.500998\n",
      "(Iteration 1131 / 4900) loss: 1.505298\n",
      "(Iteration 1141 / 4900) loss: 1.441181\n",
      "(Iteration 1151 / 4900) loss: 1.414442\n",
      "(Iteration 1161 / 4900) loss: 1.455982\n",
      "(Iteration 1171 / 4900) loss: 1.236479\n",
      "(Iteration 1181 / 4900) loss: 1.368060\n",
      "(Iteration 1191 / 4900) loss: 1.430576\n",
      "(Iteration 1201 / 4900) loss: 1.351238\n",
      "(Iteration 1211 / 4900) loss: 1.391831\n",
      "(Iteration 1221 / 4900) loss: 1.464463\n",
      "(Iteration 1231 / 4900) loss: 1.477755\n",
      "(Iteration 1241 / 4900) loss: 1.684438\n",
      "(Iteration 1251 / 4900) loss: 1.546422\n",
      "(Iteration 1261 / 4900) loss: 1.485765\n",
      "(Iteration 1271 / 4900) loss: 1.398872\n",
      "(Iteration 1281 / 4900) loss: 1.619305\n",
      "(Iteration 1291 / 4900) loss: 1.536715\n",
      "(Iteration 1301 / 4900) loss: 1.498390\n",
      "(Iteration 1311 / 4900) loss: 1.212442\n",
      "(Iteration 1321 / 4900) loss: 1.527674\n",
      "(Iteration 1331 / 4900) loss: 1.222824\n",
      "(Iteration 1341 / 4900) loss: 1.458069\n",
      "(Iteration 1351 / 4900) loss: 1.366288\n",
      "(Iteration 1361 / 4900) loss: 1.431337\n",
      "(Iteration 1371 / 4900) loss: 1.376695\n",
      "(Iteration 1381 / 4900) loss: 1.569807\n",
      "(Iteration 1391 / 4900) loss: 1.342309\n",
      "(Iteration 1401 / 4900) loss: 1.736626\n",
      "(Iteration 1411 / 4900) loss: 1.472285\n",
      "(Iteration 1421 / 4900) loss: 1.525640\n",
      "(Iteration 1431 / 4900) loss: 1.255003\n",
      "(Iteration 1441 / 4900) loss: 1.335967\n",
      "(Iteration 1451 / 4900) loss: 1.557227\n",
      "(Iteration 1461 / 4900) loss: 1.314906\n",
      "(Epoch 3 / 10) train acc: 0.498000; val_acc: 0.458000\n",
      "(Iteration 1471 / 4900) loss: 1.470921\n",
      "(Iteration 1481 / 4900) loss: 1.306651\n",
      "(Iteration 1491 / 4900) loss: 1.605111\n",
      "(Iteration 1501 / 4900) loss: 1.423853\n",
      "(Iteration 1511 / 4900) loss: 1.504916\n",
      "(Iteration 1521 / 4900) loss: 1.580257\n",
      "(Iteration 1531 / 4900) loss: 1.384838\n",
      "(Iteration 1541 / 4900) loss: 1.198624\n",
      "(Iteration 1551 / 4900) loss: 1.490326\n",
      "(Iteration 1561 / 4900) loss: 1.342835\n",
      "(Iteration 1571 / 4900) loss: 1.178853\n",
      "(Iteration 1581 / 4900) loss: 1.283360\n",
      "(Iteration 1591 / 4900) loss: 1.423840\n",
      "(Iteration 1601 / 4900) loss: 1.651788\n",
      "(Iteration 1611 / 4900) loss: 1.466712\n",
      "(Iteration 1621 / 4900) loss: 1.430297\n",
      "(Iteration 1631 / 4900) loss: 1.198962\n",
      "(Iteration 1641 / 4900) loss: 1.369088\n",
      "(Iteration 1651 / 4900) loss: 1.116278\n",
      "(Iteration 1661 / 4900) loss: 1.383226\n",
      "(Iteration 1671 / 4900) loss: 1.378515\n",
      "(Iteration 1681 / 4900) loss: 1.448944\n",
      "(Iteration 1691 / 4900) loss: 1.331518\n",
      "(Iteration 1701 / 4900) loss: 1.484836\n",
      "(Iteration 1711 / 4900) loss: 1.428992\n",
      "(Iteration 1721 / 4900) loss: 1.308239\n",
      "(Iteration 1731 / 4900) loss: 1.259575\n",
      "(Iteration 1741 / 4900) loss: 1.285930\n",
      "(Iteration 1751 / 4900) loss: 1.333814\n",
      "(Iteration 1761 / 4900) loss: 1.314577\n",
      "(Iteration 1771 / 4900) loss: 1.460547\n",
      "(Iteration 1781 / 4900) loss: 1.308230\n",
      "(Iteration 1791 / 4900) loss: 1.371239\n",
      "(Iteration 1801 / 4900) loss: 1.422261\n",
      "(Iteration 1811 / 4900) loss: 1.355347\n",
      "(Iteration 1821 / 4900) loss: 1.485419\n",
      "(Iteration 1831 / 4900) loss: 1.437863\n",
      "(Iteration 1841 / 4900) loss: 1.286633\n",
      "(Iteration 1851 / 4900) loss: 1.398632\n",
      "(Iteration 1861 / 4900) loss: 1.306387\n",
      "(Iteration 1871 / 4900) loss: 1.567880\n",
      "(Iteration 1881 / 4900) loss: 1.246582\n",
      "(Iteration 1891 / 4900) loss: 1.200015\n",
      "(Iteration 1901 / 4900) loss: 1.169409\n",
      "(Iteration 1911 / 4900) loss: 1.415075\n",
      "(Iteration 1921 / 4900) loss: 1.349265\n",
      "(Iteration 1931 / 4900) loss: 1.246382\n",
      "(Iteration 1941 / 4900) loss: 1.220557\n",
      "(Iteration 1951 / 4900) loss: 1.157349\n",
      "(Epoch 4 / 10) train acc: 0.541000; val_acc: 0.483000\n",
      "(Iteration 1961 / 4900) loss: 1.484030\n",
      "(Iteration 1971 / 4900) loss: 1.241963\n",
      "(Iteration 1981 / 4900) loss: 1.415088\n",
      "(Iteration 1991 / 4900) loss: 1.329582\n",
      "(Iteration 2001 / 4900) loss: 1.273756\n",
      "(Iteration 2011 / 4900) loss: 1.290564\n",
      "(Iteration 2021 / 4900) loss: 1.585523\n",
      "(Iteration 2031 / 4900) loss: 1.133952\n",
      "(Iteration 2041 / 4900) loss: 1.278294\n",
      "(Iteration 2051 / 4900) loss: 1.289566\n",
      "(Iteration 2061 / 4900) loss: 1.312911\n",
      "(Iteration 2071 / 4900) loss: 1.255813\n",
      "(Iteration 2081 / 4900) loss: 1.375206\n",
      "(Iteration 2091 / 4900) loss: 1.510567\n",
      "(Iteration 2101 / 4900) loss: 1.768756\n",
      "(Iteration 2111 / 4900) loss: 1.282452\n",
      "(Iteration 2121 / 4900) loss: 1.334206\n",
      "(Iteration 2131 / 4900) loss: 1.029175\n",
      "(Iteration 2141 / 4900) loss: 1.181657\n",
      "(Iteration 2151 / 4900) loss: 1.449417\n",
      "(Iteration 2161 / 4900) loss: 1.307034\n",
      "(Iteration 2171 / 4900) loss: 1.481694\n",
      "(Iteration 2181 / 4900) loss: 1.391886\n",
      "(Iteration 2191 / 4900) loss: 1.206353\n",
      "(Iteration 2201 / 4900) loss: 1.468209\n",
      "(Iteration 2211 / 4900) loss: 1.171214\n",
      "(Iteration 2221 / 4900) loss: 1.352854\n",
      "(Iteration 2231 / 4900) loss: 1.201837\n",
      "(Iteration 2241 / 4900) loss: 1.183903\n",
      "(Iteration 2251 / 4900) loss: 1.426063\n",
      "(Iteration 2261 / 4900) loss: 1.611460\n",
      "(Iteration 2271 / 4900) loss: 1.295924\n",
      "(Iteration 2281 / 4900) loss: 1.340297\n",
      "(Iteration 2291 / 4900) loss: 1.402279\n",
      "(Iteration 2301 / 4900) loss: 1.322739\n",
      "(Iteration 2311 / 4900) loss: 1.378773\n",
      "(Iteration 2321 / 4900) loss: 1.410894\n",
      "(Iteration 2331 / 4900) loss: 1.257401\n",
      "(Iteration 2341 / 4900) loss: 1.312277\n",
      "(Iteration 2351 / 4900) loss: 1.499041\n",
      "(Iteration 2361 / 4900) loss: 1.535425\n",
      "(Iteration 2371 / 4900) loss: 1.484036\n",
      "(Iteration 2381 / 4900) loss: 1.478918\n",
      "(Iteration 2391 / 4900) loss: 1.289148\n",
      "(Iteration 2401 / 4900) loss: 1.330683\n",
      "(Iteration 2411 / 4900) loss: 1.206265\n",
      "(Iteration 2421 / 4900) loss: 1.367182\n",
      "(Iteration 2431 / 4900) loss: 1.115750\n",
      "(Iteration 2441 / 4900) loss: 1.444368\n",
      "(Epoch 5 / 10) train acc: 0.537000; val_acc: 0.512000\n",
      "(Iteration 2451 / 4900) loss: 1.132647\n",
      "(Iteration 2461 / 4900) loss: 1.415275\n",
      "(Iteration 2471 / 4900) loss: 1.259423\n",
      "(Iteration 2481 / 4900) loss: 1.443702\n",
      "(Iteration 2491 / 4900) loss: 1.171727\n",
      "(Iteration 2501 / 4900) loss: 1.144126\n",
      "(Iteration 2511 / 4900) loss: 1.123309\n",
      "(Iteration 2521 / 4900) loss: 1.269253\n",
      "(Iteration 2531 / 4900) loss: 1.335626\n",
      "(Iteration 2541 / 4900) loss: 1.163050\n",
      "(Iteration 2551 / 4900) loss: 1.207805\n",
      "(Iteration 2561 / 4900) loss: 1.339562\n",
      "(Iteration 2571 / 4900) loss: 1.124135\n",
      "(Iteration 2581 / 4900) loss: 1.640337\n",
      "(Iteration 2591 / 4900) loss: 1.847425\n",
      "(Iteration 2601 / 4900) loss: 1.518167\n",
      "(Iteration 2611 / 4900) loss: 1.273819\n",
      "(Iteration 2621 / 4900) loss: 1.305990\n",
      "(Iteration 2631 / 4900) loss: 1.446231\n",
      "(Iteration 2641 / 4900) loss: 1.436128\n",
      "(Iteration 2651 / 4900) loss: 1.394783\n",
      "(Iteration 2661 / 4900) loss: 1.420346\n",
      "(Iteration 2671 / 4900) loss: 1.424633\n",
      "(Iteration 2681 / 4900) loss: 1.142920\n",
      "(Iteration 2691 / 4900) loss: 1.446678\n",
      "(Iteration 2701 / 4900) loss: 1.271582\n",
      "(Iteration 2711 / 4900) loss: 1.228493\n",
      "(Iteration 2721 / 4900) loss: 1.404994\n",
      "(Iteration 2731 / 4900) loss: 1.081887\n",
      "(Iteration 2741 / 4900) loss: 1.412959\n",
      "(Iteration 2751 / 4900) loss: 1.236909\n",
      "(Iteration 2761 / 4900) loss: 1.293103\n",
      "(Iteration 2771 / 4900) loss: 1.379391\n",
      "(Iteration 2781 / 4900) loss: 1.533742\n",
      "(Iteration 2791 / 4900) loss: 1.376699\n",
      "(Iteration 2801 / 4900) loss: 1.398328\n",
      "(Iteration 2811 / 4900) loss: 1.236587\n",
      "(Iteration 2821 / 4900) loss: 1.258886\n",
      "(Iteration 2831 / 4900) loss: 1.514961\n",
      "(Iteration 2841 / 4900) loss: 1.360141\n",
      "(Iteration 2851 / 4900) loss: 1.447314\n",
      "(Iteration 2861 / 4900) loss: 1.345524\n",
      "(Iteration 2871 / 4900) loss: 1.321387\n",
      "(Iteration 2881 / 4900) loss: 1.299389\n",
      "(Iteration 2891 / 4900) loss: 1.526832\n",
      "(Iteration 2901 / 4900) loss: 1.244389\n",
      "(Iteration 2911 / 4900) loss: 1.258824\n",
      "(Iteration 2921 / 4900) loss: 1.396121\n",
      "(Iteration 2931 / 4900) loss: 1.197307\n",
      "(Epoch 6 / 10) train acc: 0.561000; val_acc: 0.510000\n",
      "(Iteration 2941 / 4900) loss: 1.321841\n",
      "(Iteration 2951 / 4900) loss: 1.193584\n",
      "(Iteration 2961 / 4900) loss: 1.310874\n",
      "(Iteration 2971 / 4900) loss: 1.257322\n",
      "(Iteration 2981 / 4900) loss: 1.192096\n",
      "(Iteration 2991 / 4900) loss: 1.536859\n",
      "(Iteration 3001 / 4900) loss: 1.193116\n",
      "(Iteration 3011 / 4900) loss: 1.201528\n",
      "(Iteration 3021 / 4900) loss: 1.391754\n",
      "(Iteration 3031 / 4900) loss: 1.361097\n",
      "(Iteration 3041 / 4900) loss: 1.346808\n",
      "(Iteration 3051 / 4900) loss: 1.128006\n",
      "(Iteration 3061 / 4900) loss: 1.356563\n",
      "(Iteration 3071 / 4900) loss: 1.257955\n",
      "(Iteration 3081 / 4900) loss: 1.263473\n",
      "(Iteration 3091 / 4900) loss: 1.347520\n",
      "(Iteration 3101 / 4900) loss: 1.273381\n",
      "(Iteration 3111 / 4900) loss: 1.265605\n",
      "(Iteration 3121 / 4900) loss: 1.281606\n",
      "(Iteration 3131 / 4900) loss: 1.069816\n",
      "(Iteration 3141 / 4900) loss: 1.262976\n",
      "(Iteration 3151 / 4900) loss: 1.248463\n",
      "(Iteration 3161 / 4900) loss: 1.099506\n",
      "(Iteration 3171 / 4900) loss: 1.270448\n",
      "(Iteration 3181 / 4900) loss: 1.330274\n",
      "(Iteration 3191 / 4900) loss: 1.531197\n",
      "(Iteration 3201 / 4900) loss: 1.280627\n",
      "(Iteration 3211 / 4900) loss: 1.277569\n",
      "(Iteration 3221 / 4900) loss: 1.335726\n",
      "(Iteration 3231 / 4900) loss: 1.310794\n",
      "(Iteration 3241 / 4900) loss: 1.234469\n",
      "(Iteration 3251 / 4900) loss: 1.372242\n",
      "(Iteration 3261 / 4900) loss: 1.375911\n",
      "(Iteration 3271 / 4900) loss: 1.200320\n",
      "(Iteration 3281 / 4900) loss: 1.193927\n",
      "(Iteration 3291 / 4900) loss: 1.219176\n",
      "(Iteration 3301 / 4900) loss: 1.380009\n",
      "(Iteration 3311 / 4900) loss: 1.434481\n",
      "(Iteration 3321 / 4900) loss: 1.182830\n",
      "(Iteration 3331 / 4900) loss: 1.110744\n",
      "(Iteration 3341 / 4900) loss: 1.177861\n",
      "(Iteration 3351 / 4900) loss: 1.271340\n",
      "(Iteration 3361 / 4900) loss: 1.284919\n",
      "(Iteration 3371 / 4900) loss: 1.413823\n",
      "(Iteration 3381 / 4900) loss: 1.304814\n",
      "(Iteration 3391 / 4900) loss: 1.289773\n",
      "(Iteration 3401 / 4900) loss: 1.207300\n",
      "(Iteration 3411 / 4900) loss: 1.219792\n",
      "(Iteration 3421 / 4900) loss: 1.277048\n",
      "(Epoch 7 / 10) train acc: 0.578000; val_acc: 0.504000\n",
      "(Iteration 3431 / 4900) loss: 1.318348\n",
      "(Iteration 3441 / 4900) loss: 1.177155\n",
      "(Iteration 3451 / 4900) loss: 1.249842\n",
      "(Iteration 3461 / 4900) loss: 1.253264\n",
      "(Iteration 3471 / 4900) loss: 1.309774\n",
      "(Iteration 3481 / 4900) loss: 1.604687\n",
      "(Iteration 3491 / 4900) loss: 1.247137\n",
      "(Iteration 3501 / 4900) loss: 1.108764\n",
      "(Iteration 3511 / 4900) loss: 1.118215\n",
      "(Iteration 3521 / 4900) loss: 1.224458\n",
      "(Iteration 3531 / 4900) loss: 1.289435\n",
      "(Iteration 3541 / 4900) loss: 1.357486\n",
      "(Iteration 3551 / 4900) loss: 1.297694\n",
      "(Iteration 3561 / 4900) loss: 1.399022\n",
      "(Iteration 3571 / 4900) loss: 1.137194\n",
      "(Iteration 3581 / 4900) loss: 1.459974\n",
      "(Iteration 3591 / 4900) loss: 1.119031\n",
      "(Iteration 3601 / 4900) loss: 1.030273\n",
      "(Iteration 3611 / 4900) loss: 1.520768\n",
      "(Iteration 3621 / 4900) loss: 1.342544\n",
      "(Iteration 3631 / 4900) loss: 1.251084\n",
      "(Iteration 3641 / 4900) loss: 1.168698\n",
      "(Iteration 3651 / 4900) loss: 1.348162\n",
      "(Iteration 3661 / 4900) loss: 1.307627\n",
      "(Iteration 3671 / 4900) loss: 1.484915\n",
      "(Iteration 3681 / 4900) loss: 1.019465\n",
      "(Iteration 3691 / 4900) loss: 0.998216\n",
      "(Iteration 3701 / 4900) loss: 1.316961\n",
      "(Iteration 3711 / 4900) loss: 1.190005\n",
      "(Iteration 3721 / 4900) loss: 1.502950\n",
      "(Iteration 3731 / 4900) loss: 1.147427\n",
      "(Iteration 3741 / 4900) loss: 1.233525\n",
      "(Iteration 3751 / 4900) loss: 1.171249\n",
      "(Iteration 3761 / 4900) loss: 1.103693\n",
      "(Iteration 3771 / 4900) loss: 1.089072\n",
      "(Iteration 3781 / 4900) loss: 1.177689\n",
      "(Iteration 3791 / 4900) loss: 1.061366\n",
      "(Iteration 3801 / 4900) loss: 1.160043\n",
      "(Iteration 3811 / 4900) loss: 1.178408\n",
      "(Iteration 3821 / 4900) loss: 1.228418\n",
      "(Iteration 3831 / 4900) loss: 1.509032\n",
      "(Iteration 3841 / 4900) loss: 1.398559\n",
      "(Iteration 3851 / 4900) loss: 1.140707\n",
      "(Iteration 3861 / 4900) loss: 1.246106\n",
      "(Iteration 3871 / 4900) loss: 1.236065\n",
      "(Iteration 3881 / 4900) loss: 1.283407\n",
      "(Iteration 3891 / 4900) loss: 1.325526\n",
      "(Iteration 3901 / 4900) loss: 1.081213\n",
      "(Iteration 3911 / 4900) loss: 1.060296\n",
      "(Epoch 8 / 10) train acc: 0.574000; val_acc: 0.495000\n",
      "(Iteration 3921 / 4900) loss: 1.248054\n",
      "(Iteration 3931 / 4900) loss: 1.122480\n",
      "(Iteration 3941 / 4900) loss: 1.462388\n",
      "(Iteration 3951 / 4900) loss: 1.047684\n",
      "(Iteration 3961 / 4900) loss: 1.458407\n",
      "(Iteration 3971 / 4900) loss: 1.344690\n",
      "(Iteration 3981 / 4900) loss: 1.246858\n",
      "(Iteration 3991 / 4900) loss: 1.339086\n",
      "(Iteration 4001 / 4900) loss: 1.052060\n",
      "(Iteration 4011 / 4900) loss: 1.445371\n",
      "(Iteration 4021 / 4900) loss: 1.368040\n",
      "(Iteration 4031 / 4900) loss: 1.152928\n",
      "(Iteration 4041 / 4900) loss: 1.399908\n",
      "(Iteration 4051 / 4900) loss: 1.164578\n",
      "(Iteration 4061 / 4900) loss: 1.426425\n",
      "(Iteration 4071 / 4900) loss: 1.073640\n",
      "(Iteration 4081 / 4900) loss: 1.363126\n",
      "(Iteration 4091 / 4900) loss: 1.276225\n",
      "(Iteration 4101 / 4900) loss: 1.271257\n",
      "(Iteration 4111 / 4900) loss: 1.350315\n",
      "(Iteration 4121 / 4900) loss: 1.451611\n",
      "(Iteration 4131 / 4900) loss: 1.083433\n",
      "(Iteration 4141 / 4900) loss: 1.435861\n",
      "(Iteration 4151 / 4900) loss: 1.333104\n",
      "(Iteration 4161 / 4900) loss: 1.325796\n",
      "(Iteration 4171 / 4900) loss: 1.541565\n",
      "(Iteration 4181 / 4900) loss: 1.198257\n",
      "(Iteration 4191 / 4900) loss: 1.159731\n",
      "(Iteration 4201 / 4900) loss: 1.166985\n",
      "(Iteration 4211 / 4900) loss: 1.263331\n",
      "(Iteration 4221 / 4900) loss: 1.131079\n",
      "(Iteration 4231 / 4900) loss: 1.158217\n",
      "(Iteration 4241 / 4900) loss: 1.143932\n",
      "(Iteration 4251 / 4900) loss: 1.252426\n",
      "(Iteration 4261 / 4900) loss: 1.122471\n",
      "(Iteration 4271 / 4900) loss: 1.081666\n",
      "(Iteration 4281 / 4900) loss: 1.143344\n",
      "(Iteration 4291 / 4900) loss: 1.161837\n",
      "(Iteration 4301 / 4900) loss: 1.039713\n",
      "(Iteration 4311 / 4900) loss: 1.292655\n",
      "(Iteration 4321 / 4900) loss: 1.231134\n",
      "(Iteration 4331 / 4900) loss: 1.078065\n",
      "(Iteration 4341 / 4900) loss: 1.254815\n",
      "(Iteration 4351 / 4900) loss: 1.181212\n",
      "(Iteration 4361 / 4900) loss: 1.113413\n",
      "(Iteration 4371 / 4900) loss: 1.162382\n",
      "(Iteration 4381 / 4900) loss: 1.241774\n",
      "(Iteration 4391 / 4900) loss: 1.063498\n",
      "(Iteration 4401 / 4900) loss: 1.108948\n",
      "(Epoch 9 / 10) train acc: 0.577000; val_acc: 0.506000\n",
      "(Iteration 4411 / 4900) loss: 1.455740\n",
      "(Iteration 4421 / 4900) loss: 1.140907\n",
      "(Iteration 4431 / 4900) loss: 1.003695\n",
      "(Iteration 4441 / 4900) loss: 1.277117\n",
      "(Iteration 4451 / 4900) loss: 1.305027\n",
      "(Iteration 4461 / 4900) loss: 1.191958\n",
      "(Iteration 4471 / 4900) loss: 1.246361\n",
      "(Iteration 4481 / 4900) loss: 1.045877\n",
      "(Iteration 4491 / 4900) loss: 1.222747\n",
      "(Iteration 4501 / 4900) loss: 1.389350\n",
      "(Iteration 4511 / 4900) loss: 1.150878\n",
      "(Iteration 4521 / 4900) loss: 1.546650\n",
      "(Iteration 4531 / 4900) loss: 1.191047\n",
      "(Iteration 4541 / 4900) loss: 0.964650\n",
      "(Iteration 4551 / 4900) loss: 1.259148\n",
      "(Iteration 4561 / 4900) loss: 1.205199\n",
      "(Iteration 4571 / 4900) loss: 1.259097\n",
      "(Iteration 4581 / 4900) loss: 1.402686\n",
      "(Iteration 4591 / 4900) loss: 1.243369\n",
      "(Iteration 4601 / 4900) loss: 1.154967\n",
      "(Iteration 4611 / 4900) loss: 1.201785\n",
      "(Iteration 4621 / 4900) loss: 1.317655\n",
      "(Iteration 4631 / 4900) loss: 1.068131\n",
      "(Iteration 4641 / 4900) loss: 1.311867\n",
      "(Iteration 4651 / 4900) loss: 1.134606\n",
      "(Iteration 4661 / 4900) loss: 1.070834\n",
      "(Iteration 4671 / 4900) loss: 1.075022\n",
      "(Iteration 4681 / 4900) loss: 1.264155\n",
      "(Iteration 4691 / 4900) loss: 1.248699\n",
      "(Iteration 4701 / 4900) loss: 1.122742\n",
      "(Iteration 4711 / 4900) loss: 1.073253\n",
      "(Iteration 4721 / 4900) loss: 1.389050\n",
      "(Iteration 4731 / 4900) loss: 1.055668\n",
      "(Iteration 4741 / 4900) loss: 1.257409\n",
      "(Iteration 4751 / 4900) loss: 1.345357\n",
      "(Iteration 4761 / 4900) loss: 1.314549\n",
      "(Iteration 4771 / 4900) loss: 1.211214\n",
      "(Iteration 4781 / 4900) loss: 1.280212\n",
      "(Iteration 4791 / 4900) loss: 1.188162\n",
      "(Iteration 4801 / 4900) loss: 1.193256\n",
      "(Iteration 4811 / 4900) loss: 1.260228\n",
      "(Iteration 4821 / 4900) loss: 1.161022\n",
      "(Iteration 4831 / 4900) loss: 1.265174\n",
      "(Iteration 4841 / 4900) loss: 1.332811\n",
      "(Iteration 4851 / 4900) loss: 1.385358\n",
      "(Iteration 4861 / 4900) loss: 1.187991\n",
      "(Iteration 4871 / 4900) loss: 1.317749\n",
      "(Iteration 4881 / 4900) loss: 1.417225\n",
      "(Iteration 4891 / 4900) loss: 1.313065\n",
      "(Epoch 10 / 10) train acc: 0.596000; val_acc: 0.518000\n"
     ]
    }
   ],
   "source": [
    "model = TwoLayerNet()\n",
    "solver = Solver(model, data)\n",
    "solver.train()\n",
    "##############################################################################\n",
    "#                             END OF YOUR CODE                               #\n",
    "##############################################################################"
   ]
  },
  {
   "cell_type": "code",
   "execution_count": 11,
   "metadata": {
    "collapsed": false,
    "deletable": true,
    "editable": true
   },
   "outputs": [
    {
     "ename": "AttributeError",
     "evalue": "'NoneType' object has no attribute 'loss_history'",
     "output_type": "error",
     "traceback": [
      "\u001b[0;31m---------------------------------------------------------------------------\u001b[0m",
      "\u001b[0;31mAttributeError\u001b[0m                            Traceback (most recent call last)",
      "\u001b[0;32m<ipython-input-11-1de3c2c05c0d>\u001b[0m in \u001b[0;36m<module>\u001b[0;34m()\u001b[0m\n\u001b[1;32m      3\u001b[0m \u001b[0mplt\u001b[0m\u001b[0;34m.\u001b[0m\u001b[0msubplot\u001b[0m\u001b[0;34m(\u001b[0m\u001b[0;36m2\u001b[0m\u001b[0;34m,\u001b[0m \u001b[0;36m1\u001b[0m\u001b[0;34m,\u001b[0m \u001b[0;36m1\u001b[0m\u001b[0;34m)\u001b[0m\u001b[0;34m\u001b[0m\u001b[0m\n\u001b[1;32m      4\u001b[0m \u001b[0mplt\u001b[0m\u001b[0;34m.\u001b[0m\u001b[0mtitle\u001b[0m\u001b[0;34m(\u001b[0m\u001b[0;34m'Training loss'\u001b[0m\u001b[0;34m)\u001b[0m\u001b[0;34m\u001b[0m\u001b[0m\n\u001b[0;32m----> 5\u001b[0;31m \u001b[0mplt\u001b[0m\u001b[0;34m.\u001b[0m\u001b[0mplot\u001b[0m\u001b[0;34m(\u001b[0m\u001b[0msolver\u001b[0m\u001b[0;34m.\u001b[0m\u001b[0mloss_history\u001b[0m\u001b[0;34m,\u001b[0m \u001b[0;34m'o'\u001b[0m\u001b[0;34m)\u001b[0m\u001b[0;34m\u001b[0m\u001b[0m\n\u001b[0m\u001b[1;32m      6\u001b[0m \u001b[0mplt\u001b[0m\u001b[0;34m.\u001b[0m\u001b[0mxlabel\u001b[0m\u001b[0;34m(\u001b[0m\u001b[0;34m'Iteration'\u001b[0m\u001b[0;34m)\u001b[0m\u001b[0;34m\u001b[0m\u001b[0m\n\u001b[1;32m      7\u001b[0m \u001b[0;34m\u001b[0m\u001b[0m\n",
      "\u001b[0;31mAttributeError\u001b[0m: 'NoneType' object has no attribute 'loss_history'"
     ]
    },
    {
     "data": {
      "image/png": "[encoded data removed]",
      "text/plain": [
       "<matplotlib.figure.Figure at 0x10bfe2d30>"
      ]
     },
     "metadata": {},
     "output_type": "display_data"
    }
   ],
   "source": [
    "# Run this cell to visualize training loss and train / val accuracy\n",
    "\n",
    "plt.subplot(2, 1, 1)\n",
    "plt.title('Training loss')\n",
    "plt.plot(solver.loss_history, 'o')\n",
    "plt.xlabel('Iteration')\n",
    "\n",
    "plt.subplot(2, 1, 2)\n",
    "plt.title('Accuracy')\n",
    "plt.plot(solver.train_acc_history, '-o', label='train')\n",
    "plt.plot(solver.val_acc_history, '-o', label='val')\n",
    "plt.plot([0.5] * len(solver.val_acc_history), 'k--')\n",
    "plt.xlabel('Epoch')\n",
    "plt.legend(loc='lower right')\n",
    "plt.gcf().set_size_inches(15, 12)\n",
    "plt.show()"
   ]
  },
  {
   "cell_type": "markdown",
   "metadata": {
    "deletable": true,
    "editable": true
   },
   "source": [
    "# Multilayer network\n",
    "Next you will implement a fully-connected network with an arbitrary number of hidden layers.\n",
    "\n",
    "Read through the `FullyConnectedNet` class in the file `cs231n/classifiers/fc_net.py`.\n",
    "\n",
    "Implement the initialization, the forward pass, and the backward pass. For the moment don't worry about implementing dropout or batch normalization; we will add those features soon."
   ]
  },
  {
   "cell_type": "markdown",
   "metadata": {
    "deletable": true,
    "editable": true
   },
   "source": [
    "## Initial loss and gradient check"
   ]
  },
  {
   "cell_type": "markdown",
   "metadata": {
    "deletable": true,
    "editable": true
   },
   "source": [
    "As a sanity check, run the following to check the initial loss and to gradient check the network both with and without regularization. Do the initial losses seem reasonable?\n",
    "\n",
    "For gradient checking, you should expect to see errors around 1e-6 or less."
   ]
  },
  {
   "cell_type": "code",
   "execution_count": null,
   "metadata": {
    "collapsed": false,
    "deletable": true,
    "editable": true
   },
   "outputs": [],
   "source": [
    "np.random.seed(231)\n",
    "N, D, H1, H2, C = 2, 15, 20, 30, 10\n",
    "X = np.random.randn(N, D)\n",
    "y = np.random.randint(C, size=(N,))\n",
    "\n",
    "for reg in [0, 3.14]:\n",
    "  print('Running check with reg = ', reg)\n",
    "  model = FullyConnectedNet([H1, H2], input_dim=D, num_classes=C,\n",
    "                            reg=reg, weight_scale=5e-2, dtype=np.float64)\n",
    "\n",
    "  loss, grads = model.loss(X, y)\n",
    "  print('Initial loss: ', loss)\n",
    "\n",
    "  for name in sorted(grads):\n",
    "    f = lambda _: model.loss(X, y)[0]\n",
    "    grad_num = eval_numerical_gradient(f, model.params[name], verbose=False, h=1e-5)\n",
    "    print('%s relative error: %.2e' % (name, rel_error(grad_num, grads[name])))"
   ]
  },
  {
   "cell_type": "markdown",
   "metadata": {
    "deletable": true,
    "editable": true
   },
   "source": [
    "As another sanity check, make sure you can overfit a small dataset of 50 images. First we will try a three-layer network with 100 units in each hidden layer. You will need to tweak the learning rate and initialization scale, but you should be able to overfit and achieve 100% training accuracy within 20 epochs."
   ]
  },
  {
   "cell_type": "code",
   "execution_count": null,
   "metadata": {
    "collapsed": false,
    "deletable": true,
    "editable": true,
    "scrolled": false
   },
   "outputs": [],
   "source": [
    "# TODO: Use a three-layer Net to overfit 50 training examples.\n",
    "\n",
    "num_train = 50\n",
    "small_data = {\n",
    "  'X_train': data['X_train'][:num_train],\n",
    "  'y_train': data['y_train'][:num_train],\n",
    "  'X_val': data['X_val'],\n",
    "  'y_val': data['y_val'],\n",
    "}\n",
    "\n",
    "weight_scale = 1e-2\n",
    "learning_rate = 1e-4\n",
    "model = FullyConnectedNet([100, 100],\n",
    "              weight_scale=weight_scale, dtype=np.float64)\n",
    "solver = Solver(model, small_data,\n",
    "                print_every=10, num_epochs=20, batch_size=25,\n",
    "                update_rule='sgd',\n",
    "                optim_config={\n",
    "                  'learning_rate': learning_rate,\n",
    "                }\n",
    "         )\n",
    "solver.train()\n",
    "\n",
    "plt.plot(solver.loss_history, 'o')\n",
    "plt.title('Training loss history')\n",
    "plt.xlabel('Iteration')\n",
    "plt.ylabel('Training loss')\n",
    "plt.show()"
   ]
  },
  {
   "cell_type": "markdown",
   "metadata": {
    "deletable": true,
    "editable": true
   },
   "source": [
    "Now try to use a five-layer network with 100 units on each layer to overfit 50 training examples. Again you will have to adjust the learning rate and weight initialization, but you should be able to achieve 100% training accuracy within 20 epochs."
   ]
  },
  {
   "cell_type": "code",
   "execution_count": null,
   "metadata": {
    "collapsed": false,
    "deletable": true,
    "editable": true
   },
   "outputs": [],
   "source": [
    "# TODO: Use a five-layer Net to overfit 50 training examples.\n",
    "\n",
    "num_train = 50\n",
    "small_data = {\n",
    "  'X_train': data['X_train'][:num_train],\n",
    "  'y_train': data['y_train'][:num_train],\n",
    "  'X_val': data['X_val'],\n",
    "  'y_val': data['y_val'],\n",
    "}\n",
    "\n",
    "learning_rate = 1e-3\n",
    "weight_scale = 1e-5\n",
    "model = FullyConnectedNet([100, 100, 100, 100],\n",
    "                weight_scale=weight_scale, dtype=np.float64)\n",
    "solver = Solver(model, small_data,\n",
    "                print_every=10, num_epochs=20, batch_size=25,\n",
    "                update_rule='sgd',\n",
    "                optim_config={\n",
    "                  'learning_rate': learning_rate,\n",
    "                }\n",
    "         )\n",
    "solver.train()\n",
    "\n",
    "plt.plot(solver.loss_history, 'o')\n",
    "plt.title('Training loss history')\n",
    "plt.xlabel('Iteration')\n",
    "plt.ylabel('Training loss')\n",
    "plt.show()"
   ]
  },
  {
   "cell_type": "markdown",
   "metadata": {
    "deletable": true,
    "editable": true
   },
   "source": [
    "# Inline question: \n",
    "Did you notice anything about the comparative difficulty of training the three-layer net vs training the five layer net?\n",
    "\n",
    "# Answer:\n",
    "[FILL THIS IN]\n"
   ]
  },
  {
   "cell_type": "markdown",
   "metadata": {
    "deletable": true,
    "editable": true
   },
   "source": [
    "# Update rules\n",
    "So far we have used vanilla stochastic gradient descent (SGD) as our update rule. More sophisticated update rules can make it easier to train deep networks. We will implement a few of the most commonly used update rules and compare them to vanilla SGD."
   ]
  },
  {
   "cell_type": "markdown",
   "metadata": {
    "deletable": true,
    "editable": true
   },
   "source": [
    "# SGD+Momentum\n",
    "Stochastic gradient descent with momentum is a widely used update rule that tends to make deep networks converge faster than vanilla stochstic gradient descent.\n",
    "\n",
    "Open the file `cs231n/optim.py` and read the documentation at the top of the file to make sure you understand the API. Implement the SGD+momentum update rule in the function `sgd_momentum` and run the following to check your implementation. You should see errors less than 1e-8."
   ]
  },
  {
   "cell_type": "code",
   "execution_count": null,
   "metadata": {
    "collapsed": false,
    "deletable": true,
    "editable": true
   },
   "outputs": [],
   "source": [
    "from cs231n.optim import sgd_momentum\n",
    "\n",
    "N, D = 4, 5\n",
    "w = np.linspace(-0.4, 0.6, num=N*D).reshape(N, D)\n",
    "dw = np.linspace(-0.6, 0.4, num=N*D).reshape(N, D)\n",
    "v = np.linspace(0.6, 0.9, num=N*D).reshape(N, D)\n",
    "\n",
    "config = {'learning_rate': 1e-3, 'velocity': v}\n",
    "next_w, _ = sgd_momentum(w, dw, config=config)\n",
    "\n",
    "expected_next_w = np.asarray([\n",
    "  [ 0.1406,      0.20738947,  0.27417895,  0.34096842,  0.40775789],\n",
    "  [ 0.47454737,  0.54133684,  0.60812632,  0.67491579,  0.74170526],\n",
    "  [ 0.80849474,  0.87528421,  0.94207368,  1.00886316,  1.07565263],\n",
    "  [ 1.14244211,  1.20923158,  1.27602105,  1.34281053,  1.4096    ]])\n",
    "expected_velocity = np.asarray([\n",
    "  [ 0.5406,      0.55475789,  0.56891579, 0.58307368,  0.59723158],\n",
    "  [ 0.61138947,  0.62554737,  0.63970526,  0.65386316,  0.66802105],\n",
    "  [ 0.68217895,  0.69633684,  0.71049474,  0.72465263,  0.73881053],\n",
    "  [ 0.75296842,  0.76712632,  0.78128421,  0.79544211,  0.8096    ]])\n",
    "\n",
    "print('next_w error: ', rel_error(next_w, expected_next_w))\n",
    "print('velocity error: ', rel_error(expected_velocity, config['velocity']))"
   ]
  },
  {
   "cell_type": "markdown",
   "metadata": {
    "deletable": true,
    "editable": true
   },
   "source": [
    "Once you have done so, run the following to train a six-layer network with both SGD and SGD+momentum. You should see the SGD+momentum update rule converge faster."
   ]
  },
  {
   "cell_type": "code",
   "execution_count": null,
   "metadata": {
    "collapsed": false,
    "deletable": true,
    "editable": true,
    "scrolled": false
   },
   "outputs": [],
   "source": [
    "num_train = 4000\n",
    "small_data = {\n",
    "  'X_train': data['X_train'][:num_train],\n",
    "  'y_train': data['y_train'][:num_train],\n",
    "  'X_val': data['X_val'],\n",
    "  'y_val': data['y_val'],\n",
    "}\n",
    "\n",
    "solvers = {}\n",
    "\n",
    "for update_rule in ['sgd', 'sgd_momentum']:\n",
    "  print('running with ', update_rule)\n",
    "  model = FullyConnectedNet([100, 100, 100, 100, 100], weight_scale=5e-2)\n",
    "\n",
    "  solver = Solver(model, small_data,\n",
    "                  num_epochs=5, batch_size=100,\n",
    "                  update_rule=update_rule,\n",
    "                  optim_config={\n",
    "                    'learning_rate': 1e-2,\n",
    "                  },\n",
    "                  verbose=True)\n",
    "  solvers[update_rule] = solver\n",
    "  solver.train()\n",
    "  print()\n",
    "\n",
    "plt.subplot(3, 1, 1)\n",
    "plt.title('Training loss')\n",
    "plt.xlabel('Iteration')\n",
    "\n",
    "plt.subplot(3, 1, 2)\n",
    "plt.title('Training accuracy')\n",
    "plt.xlabel('Epoch')\n",
    "\n",
    "plt.subplot(3, 1, 3)\n",
    "plt.title('Validation accuracy')\n",
    "plt.xlabel('Epoch')\n",
    "\n",
    "for update_rule, solver in list(solvers.items()):\n",
    "  plt.subplot(3, 1, 1)\n",
    "  plt.plot(solver.loss_history, 'o', label=update_rule)\n",
    "  \n",
    "  plt.subplot(3, 1, 2)\n",
    "  plt.plot(solver.train_acc_history, '-o', label=update_rule)\n",
    "\n",
    "  plt.subplot(3, 1, 3)\n",
    "  plt.plot(solver.val_acc_history, '-o', label=update_rule)\n",
    "  \n",
    "for i in [1, 2, 3]:\n",
    "  plt.subplot(3, 1, i)\n",
    "  plt.legend(loc='upper center', ncol=4)\n",
    "plt.gcf().set_size_inches(15, 15)\n",
    "plt.show()"
   ]
  },
  {
   "cell_type": "markdown",
   "metadata": {
    "deletable": true,
    "editable": true
   },
   "source": [
    "# RMSProp and Adam\n",
    "RMSProp [1] and Adam [2] are update rules that set per-parameter learning rates by using a running average of the second moments of gradients.\n",
    "\n",
    "In the file `cs231n/optim.py`, implement the RMSProp update rule in the `rmsprop` function and implement the Adam update rule in the `adam` function, and check your implementations using the tests below.\n",
    "\n",
    "[1] Tijmen Tieleman and Geoffrey Hinton. \"Lecture 6.5-rmsprop: Divide the gradient by a running average of its recent magnitude.\" COURSERA: Neural Networks for Machine Learning 4 (2012).\n",
    "\n",
    "[2] Diederik Kingma and Jimmy Ba, \"Adam: A Method for Stochastic Optimization\", ICLR 2015."
   ]
  },
  {
   "cell_type": "code",
   "execution_count": null,
   "metadata": {
    "collapsed": false,
    "deletable": true,
    "editable": true
   },
   "outputs": [],
   "source": [
    "# Test RMSProp implementation; you should see errors less than 1e-7\n",
    "from cs231n.optim import rmsprop\n",
    "\n",
    "N, D = 4, 5\n",
    "w = np.linspace(-0.4, 0.6, num=N*D).reshape(N, D)\n",
    "dw = np.linspace(-0.6, 0.4, num=N*D).reshape(N, D)\n",
    "cache = np.linspace(0.6, 0.9, num=N*D).reshape(N, D)\n",
    "\n",
    "config = {'learning_rate': 1e-2, 'cache': cache}\n",
    "next_w, _ = rmsprop(w, dw, config=config)\n",
    "\n",
    "expected_next_w = np.asarray([\n",
    "  [-0.39223849, -0.34037513, -0.28849239, -0.23659121, -0.18467247],\n",
    "  [-0.132737,   -0.08078555, -0.02881884,  0.02316247,  0.07515774],\n",
    "  [ 0.12716641,  0.17918792,  0.23122175,  0.28326742,  0.33532447],\n",
    "  [ 0.38739248,  0.43947102,  0.49155973,  0.54365823,  0.59576619]])\n",
    "expected_cache = np.asarray([\n",
    "  [ 0.5976,      0.6126277,   0.6277108,   0.64284931,  0.65804321],\n",
    "  [ 0.67329252,  0.68859723,  0.70395734,  0.71937285,  0.73484377],\n",
    "  [ 0.75037008,  0.7659518,   0.78158892,  0.79728144,  0.81302936],\n",
    "  [ 0.82883269,  0.84469141,  0.86060554,  0.87657507,  0.8926    ]])\n",
    "\n",
    "print('next_w error: ', rel_error(expected_next_w, next_w))\n",
    "print('cache error: ', rel_error(expected_cache, config['cache']))"
   ]
  },
  {
   "cell_type": "code",
   "execution_count": null,
   "metadata": {
    "collapsed": false,
    "deletable": true,
    "editable": true
   },
   "outputs": [],
   "source": [
    "# Test Adam implementation; you should see errors around 1e-7 or less\n",
    "from cs231n.optim import adam\n",
    "\n",
    "N, D = 4, 5\n",
    "w = np.linspace(-0.4, 0.6, num=N*D).reshape(N, D)\n",
    "dw = np.linspace(-0.6, 0.4, num=N*D).reshape(N, D)\n",
    "m = np.linspace(0.6, 0.9, num=N*D).reshape(N, D)\n",
    "v = np.linspace(0.7, 0.5, num=N*D).reshape(N, D)\n",
    "\n",
    "config = {'learning_rate': 1e-2, 'm': m, 'v': v, 't': 5}\n",
    "next_w, _ = adam(w, dw, config=config)\n",
    "\n",
    "expected_next_w = np.asarray([\n",
    "  [-0.40094747, -0.34836187, -0.29577703, -0.24319299, -0.19060977],\n",
    "  [-0.1380274,  -0.08544591, -0.03286534,  0.01971428,  0.0722929],\n",
    "  [ 0.1248705,   0.17744702,  0.23002243,  0.28259667,  0.33516969],\n",
    "  [ 0.38774145,  0.44031188,  0.49288093,  0.54544852,  0.59801459]])\n",
    "expected_v = np.asarray([\n",
    "  [ 0.69966,     0.68908382,  0.67851319,  0.66794809,  0.65738853,],\n",
    "  [ 0.64683452,  0.63628604,  0.6257431,   0.61520571,  0.60467385,],\n",
    "  [ 0.59414753,  0.58362676,  0.57311152,  0.56260183,  0.55209767,],\n",
    "  [ 0.54159906,  0.53110598,  0.52061845,  0.51013645,  0.49966,   ]])\n",
    "expected_m = np.asarray([\n",
    "  [ 0.48,        0.49947368,  0.51894737,  0.53842105,  0.55789474],\n",
    "  [ 0.57736842,  0.59684211,  0.61631579,  0.63578947,  0.65526316],\n",
    "  [ 0.67473684,  0.69421053,  0.71368421,  0.73315789,  0.75263158],\n",
    "  [ 0.77210526,  0.79157895,  0.81105263,  0.83052632,  0.85      ]])\n",
    "\n",
    "print('next_w error: ', rel_error(expected_next_w, next_w))\n",
    "print('v error: ', rel_error(expected_v, config['v']))\n",
    "print('m error: ', rel_error(expected_m, config['m']))"
   ]
  },
  {
   "cell_type": "markdown",
   "metadata": {
    "deletable": true,
    "editable": true
   },
   "source": [
    "Once you have debugged your RMSProp and Adam implementations, run the following to train a pair of deep networks using these new update rules:"
   ]
  },
  {
   "cell_type": "code",
   "execution_count": null,
   "metadata": {
    "collapsed": false,
    "deletable": true,
    "editable": true
   },
   "outputs": [],
   "source": [
    "learning_rates = {'rmsprop': 1e-4, 'adam': 1e-3}\n",
    "for update_rule in ['adam', 'rmsprop']:\n",
    "  print('running with ', update_rule)\n",
    "  model = FullyConnectedNet([100, 100, 100, 100, 100], weight_scale=5e-2)\n",
    "\n",
    "  solver = Solver(model, small_data,\n",
    "                  num_epochs=5, batch_size=100,\n",
    "                  update_rule=update_rule,\n",
    "                  optim_config={\n",
    "                    'learning_rate': learning_rates[update_rule]\n",
    "                  },\n",
    "                  verbose=True)\n",
    "  solvers[update_rule] = solver\n",
    "  solver.train()\n",
    "  print()\n",
    "\n",
    "plt.subplot(3, 1, 1)\n",
    "plt.title('Training loss')\n",
    "plt.xlabel('Iteration')\n",
    "\n",
    "plt.subplot(3, 1, 2)\n",
    "plt.title('Training accuracy')\n",
    "plt.xlabel('Epoch')\n",
    "\n",
    "plt.subplot(3, 1, 3)\n",
    "plt.title('Validation accuracy')\n",
    "plt.xlabel('Epoch')\n",
    "\n",
    "for update_rule, solver in list(solvers.items()):\n",
    "  plt.subplot(3, 1, 1)\n",
    "  plt.plot(solver.loss_history, 'o', label=update_rule)\n",
    "  \n",
    "  plt.subplot(3, 1, 2)\n",
    "  plt.plot(solver.train_acc_history, '-o', label=update_rule)\n",
    "\n",
    "  plt.subplot(3, 1, 3)\n",
    "  plt.plot(solver.val_acc_history, '-o', label=update_rule)\n",
    "  \n",
    "for i in [1, 2, 3]:\n",
    "  plt.subplot(3, 1, i)\n",
    "  plt.legend(loc='upper center', ncol=4)\n",
    "plt.gcf().set_size_inches(15, 15)\n",
    "plt.show()"
   ]
  },
  {
   "cell_type": "markdown",
   "metadata": {
    "deletable": true,
    "editable": true
   },
   "source": [
    "# Train a good model!\n",
    "Train the best fully-connected model that you can on CIFAR-10, storing your best model in the `best_model` variable. We require you to get at least 50% accuracy on the validation set using a fully-connected net.\n",
    "\n",
    "If you are careful it should be possible to get accuracies above 55%, but we don't require it for this part and won't assign extra credit for doing so. Later in the assignment we will ask you to train the best convolutional network that you can on CIFAR-10, and we would prefer that you spend your effort working on convolutional nets rather than fully-connected nets.\n",
    "\n",
    "You might find it useful to complete the `BatchNormalization.ipynb` and `Dropout.ipynb` notebooks before completing this part, since those techniques can help you train powerful models."
   ]
  },
  {
   "cell_type": "code",
   "execution_count": null,
   "metadata": {
    "collapsed": false,
    "deletable": true,
    "editable": true,
    "scrolled": false
   },
   "outputs": [],
   "source": [
    "best_model = None\n",
    "################################################################################\n",
    "# TODO: Train the best FullyConnectedNet that you can on CIFAR-10. You might   #\n",
    "# batch normalization and dropout useful. Store your best model in the         #\n",
    "# best_model variable.                                                         #\n",
    "################################################################################\n",
    "pass\n",
    "################################################################################\n",
    "#                              END OF YOUR CODE                                #\n",
    "################################################################################"
   ]
  },
  {
   "cell_type": "markdown",
   "metadata": {
    "deletable": true,
    "editable": true
   },
   "source": [
    "# Test you model\n",
    "Run your best model on the validation and test sets. You should achieve above 50% accuracy on the validation set."
   ]
  },
  {
   "cell_type": "code",
   "execution_count": null,
   "metadata": {
    "collapsed": false,
    "deletable": true,
    "editable": true
   },
   "outputs": [],
   "source": [
    "y_test_pred = np.argmax(best_model.loss(data['X_test']), axis=1)\n",
    "y_val_pred = np.argmax(best_model.loss(data['X_val']), axis=1)\n",
    "print('Validation set accuracy: ', (y_val_pred == data['y_val']).mean())\n",
    "print('Test set accuracy: ', (y_test_pred == data['y_test']).mean())"
   ]
  }
 ],
 "metadata": {
  "kernelspec": {
   "display_name": "Python 3",
   "language": "python",
   "name": "python3"
  },
  "language_info": {
   "codemirror_mode": {
    "name": "ipython",
    "version": 3
   },
   "file_extension": ".py",
   "mimetype": "text/x-python",
   "name": "python",
   "nbconvert_exporter": "python",
   "pygments_lexer": "ipython3",
   "version": "3.6.0"
  }
 },
 "nbformat": 4,
 "nbformat_minor": 0
}
